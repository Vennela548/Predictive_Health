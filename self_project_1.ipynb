{
 "cells": [
  {
   "cell_type": "code",
   "execution_count": 1,
   "id": "d0bb2ada",
   "metadata": {},
   "outputs": [],
   "source": [
    "import numpy as np\n",
    "import pandas as pd\n",
    "import matplotlib.pyplot as plt\n",
    "import seaborn as sns"
   ]
  },
  {
   "cell_type": "code",
   "execution_count": 2,
   "id": "cae409d3",
   "metadata": {},
   "outputs": [
    {
     "data": {
      "text/html": [
       "<div>\n",
       "<style scoped>\n",
       "    .dataframe tbody tr th:only-of-type {\n",
       "        vertical-align: middle;\n",
       "    }\n",
       "\n",
       "    .dataframe tbody tr th {\n",
       "        vertical-align: top;\n",
       "    }\n",
       "\n",
       "    .dataframe thead th {\n",
       "        text-align: right;\n",
       "    }\n",
       "</style>\n",
       "<table border=\"1\" class=\"dataframe\">\n",
       "  <thead>\n",
       "    <tr style=\"text-align: right;\">\n",
       "      <th></th>\n",
       "      <th>pc</th>\n",
       "      <th>ld</th>\n",
       "      <th>m0</th>\n",
       "      <th>m1</th>\n",
       "      <th>m2</th>\n",
       "      <th>m3</th>\n",
       "      <th>m4</th>\n",
       "      <th>m5</th>\n",
       "      <th>m6</th>\n",
       "      <th>m7</th>\n",
       "      <th>m8</th>\n",
       "      <th>m9</th>\n",
       "      <th>m10</th>\n",
       "      <th>m11</th>\n",
       "      <th>m12</th>\n",
       "      <th>m13</th>\n",
       "      <th>m14</th>\n",
       "      <th>ma</th>\n",
       "      <th>pred</th>\n",
       "    </tr>\n",
       "  </thead>\n",
       "  <tbody>\n",
       "    <tr>\n",
       "      <th>0</th>\n",
       "      <td>y</td>\n",
       "      <td>83.71</td>\n",
       "      <td>63.0</td>\n",
       "      <td>7.2</td>\n",
       "      <td>52.5</td>\n",
       "      <td>14.0232</td>\n",
       "      <td>130.8300</td>\n",
       "      <td>12.4280</td>\n",
       "      <td>188.8425</td>\n",
       "      <td>8.9520</td>\n",
       "      <td>201.1905</td>\n",
       "      <td>9.2896</td>\n",
       "      <td>141.9075</td>\n",
       "      <td>16.0968</td>\n",
       "      <td>150.3390</td>\n",
       "      <td>12.4880</td>\n",
       "      <td>173.1240</td>\n",
       "      <td>m78</td>\n",
       "      <td>0</td>\n",
       "    </tr>\n",
       "    <tr>\n",
       "      <th>1</th>\n",
       "      <td>y</td>\n",
       "      <td>108.94</td>\n",
       "      <td>31.5</td>\n",
       "      <td>12.8</td>\n",
       "      <td>84.0</td>\n",
       "      <td>13.2840</td>\n",
       "      <td>128.8350</td>\n",
       "      <td>13.5256</td>\n",
       "      <td>183.0990</td>\n",
       "      <td>8.8520</td>\n",
       "      <td>207.2385</td>\n",
       "      <td>8.4704</td>\n",
       "      <td>154.7805</td>\n",
       "      <td>13.3304</td>\n",
       "      <td>101.0205</td>\n",
       "      <td>12.5096</td>\n",
       "      <td>131.4075</td>\n",
       "      <td>m78</td>\n",
       "      <td>0</td>\n",
       "    </tr>\n",
       "    <tr>\n",
       "      <th>2</th>\n",
       "      <td>E</td>\n",
       "      <td>169.65</td>\n",
       "      <td>0.0</td>\n",
       "      <td>5.6</td>\n",
       "      <td>73.5</td>\n",
       "      <td>14.5472</td>\n",
       "      <td>128.9295</td>\n",
       "      <td>13.6424</td>\n",
       "      <td>174.4680</td>\n",
       "      <td>8.9800</td>\n",
       "      <td>190.3125</td>\n",
       "      <td>11.3056</td>\n",
       "      <td>156.7650</td>\n",
       "      <td>NaN</td>\n",
       "      <td>122.5350</td>\n",
       "      <td>11.7136</td>\n",
       "      <td>176.8200</td>\n",
       "      <td>m76</td>\n",
       "      <td>1</td>\n",
       "    </tr>\n",
       "    <tr>\n",
       "      <th>3</th>\n",
       "      <td>x</td>\n",
       "      <td>122.42</td>\n",
       "      <td>31.5</td>\n",
       "      <td>7.2</td>\n",
       "      <td>63.0</td>\n",
       "      <td>15.0152</td>\n",
       "      <td>119.8575</td>\n",
       "      <td>12.3344</td>\n",
       "      <td>186.8580</td>\n",
       "      <td>10.7208</td>\n",
       "      <td>193.8195</td>\n",
       "      <td>10.6096</td>\n",
       "      <td>175.7490</td>\n",
       "      <td>NaN</td>\n",
       "      <td>124.8030</td>\n",
       "      <td>13.8424</td>\n",
       "      <td>168.2625</td>\n",
       "      <td>m55</td>\n",
       "      <td>0</td>\n",
       "    </tr>\n",
       "    <tr>\n",
       "      <th>4</th>\n",
       "      <td>E</td>\n",
       "      <td>125.43</td>\n",
       "      <td>94.5</td>\n",
       "      <td>7.2</td>\n",
       "      <td>42.0</td>\n",
       "      <td>14.4176</td>\n",
       "      <td>135.4290</td>\n",
       "      <td>14.5824</td>\n",
       "      <td>187.8135</td>\n",
       "      <td>9.3088</td>\n",
       "      <td>203.1540</td>\n",
       "      <td>9.8280</td>\n",
       "      <td>172.7040</td>\n",
       "      <td>14.4720</td>\n",
       "      <td>120.2145</td>\n",
       "      <td>NaN</td>\n",
       "      <td>150.1185</td>\n",
       "      <td>m76</td>\n",
       "      <td>0</td>\n",
       "    </tr>\n",
       "  </tbody>\n",
       "</table>\n",
       "</div>"
      ],
      "text/plain": [
       "  pc      ld    m0    m1    m2       m3        m4       m5        m6       m7  \\\n",
       "0  y   83.71  63.0   7.2  52.5  14.0232  130.8300  12.4280  188.8425   8.9520   \n",
       "1  y  108.94  31.5  12.8  84.0  13.2840  128.8350  13.5256  183.0990   8.8520   \n",
       "2  E  169.65   0.0   5.6  73.5  14.5472  128.9295  13.6424  174.4680   8.9800   \n",
       "3  x  122.42  31.5   7.2  63.0  15.0152  119.8575  12.3344  186.8580  10.7208   \n",
       "4  E  125.43  94.5   7.2  42.0  14.4176  135.4290  14.5824  187.8135   9.3088   \n",
       "\n",
       "         m8       m9       m10      m11       m12      m13       m14   ma  \\\n",
       "0  201.1905   9.2896  141.9075  16.0968  150.3390  12.4880  173.1240  m78   \n",
       "1  207.2385   8.4704  154.7805  13.3304  101.0205  12.5096  131.4075  m78   \n",
       "2  190.3125  11.3056  156.7650      NaN  122.5350  11.7136  176.8200  m76   \n",
       "3  193.8195  10.6096  175.7490      NaN  124.8030  13.8424  168.2625  m55   \n",
       "4  203.1540   9.8280  172.7040  14.4720  120.2145      NaN  150.1185  m76   \n",
       "\n",
       "   pred  \n",
       "0     0  \n",
       "1     0  \n",
       "2     1  \n",
       "3     0  \n",
       "4     0  "
      ]
     },
     "execution_count": 2,
     "metadata": {},
     "output_type": "execute_result"
    }
   ],
   "source": [
    "df=pd.read_csv(\"Train_data.csv\")\n",
    "\n",
    "df.head()"
   ]
  },
  {
   "cell_type": "code",
   "execution_count": 3,
   "id": "78227de7",
   "metadata": {},
   "outputs": [
    {
     "data": {
      "text/html": [
       "<div>\n",
       "<style scoped>\n",
       "    .dataframe tbody tr th:only-of-type {\n",
       "        vertical-align: middle;\n",
       "    }\n",
       "\n",
       "    .dataframe tbody tr th {\n",
       "        vertical-align: top;\n",
       "    }\n",
       "\n",
       "    .dataframe thead th {\n",
       "        text-align: right;\n",
       "    }\n",
       "</style>\n",
       "<table border=\"1\" class=\"dataframe\">\n",
       "  <thead>\n",
       "    <tr style=\"text-align: right;\">\n",
       "      <th></th>\n",
       "      <th>ld</th>\n",
       "      <th>m0</th>\n",
       "      <th>m1</th>\n",
       "      <th>m2</th>\n",
       "      <th>m3</th>\n",
       "      <th>m4</th>\n",
       "      <th>m5</th>\n",
       "      <th>m6</th>\n",
       "      <th>m7</th>\n",
       "      <th>m8</th>\n",
       "      <th>m9</th>\n",
       "      <th>m10</th>\n",
       "      <th>m11</th>\n",
       "      <th>m12</th>\n",
       "      <th>m13</th>\n",
       "      <th>m14</th>\n",
       "      <th>pred</th>\n",
       "    </tr>\n",
       "  </thead>\n",
       "  <tbody>\n",
       "    <tr>\n",
       "      <th>count</th>\n",
       "      <td>22362.000000</td>\n",
       "      <td>22584.000000</td>\n",
       "      <td>22584.000000</td>\n",
       "      <td>22584.000000</td>\n",
       "      <td>22270.000000</td>\n",
       "      <td>22117.000000</td>\n",
       "      <td>22008.000000</td>\n",
       "      <td>21909.000000</td>\n",
       "      <td>21796.000000</td>\n",
       "      <td>21684.000000</td>\n",
       "      <td>21537.000000</td>\n",
       "      <td>21484.000000</td>\n",
       "      <td>21357.000000</td>\n",
       "      <td>21203.000000</td>\n",
       "      <td>21085.000000</td>\n",
       "      <td>20995.000000</td>\n",
       "      <td>22584.000000</td>\n",
       "    </tr>\n",
       "    <tr>\n",
       "      <th>mean</th>\n",
       "      <td>127.893905</td>\n",
       "      <td>78.002391</td>\n",
       "      <td>6.589621</td>\n",
       "      <td>65.664054</td>\n",
       "      <td>14.241585</td>\n",
       "      <td>123.207337</td>\n",
       "      <td>13.697683</td>\n",
       "      <td>183.894313</td>\n",
       "      <td>9.380175</td>\n",
       "      <td>199.786867</td>\n",
       "      <td>9.143454</td>\n",
       "      <td>169.239563</td>\n",
       "      <td>15.334764</td>\n",
       "      <td>122.868388</td>\n",
       "      <td>12.521853</td>\n",
       "      <td>168.530817</td>\n",
       "      <td>0.215772</td>\n",
       "    </tr>\n",
       "    <tr>\n",
       "      <th>std</th>\n",
       "      <td>39.078070</td>\n",
       "      <td>43.156539</td>\n",
       "      <td>3.360565</td>\n",
       "      <td>34.690224</td>\n",
       "      <td>0.801207</td>\n",
       "      <td>10.481427</td>\n",
       "      <td>0.798463</td>\n",
       "      <td>10.478648</td>\n",
       "      <td>0.800904</td>\n",
       "      <td>10.578785</td>\n",
       "      <td>0.799078</td>\n",
       "      <td>14.754047</td>\n",
       "      <td>1.214489</td>\n",
       "      <td>15.669803</td>\n",
       "      <td>0.923849</td>\n",
       "      <td>15.643776</td>\n",
       "      <td>0.411366</td>\n",
       "    </tr>\n",
       "    <tr>\n",
       "      <th>min</th>\n",
       "      <td>33.160000</td>\n",
       "      <td>0.000000</td>\n",
       "      <td>0.000000</td>\n",
       "      <td>0.000000</td>\n",
       "      <td>11.174400</td>\n",
       "      <td>84.084000</td>\n",
       "      <td>10.250400</td>\n",
       "      <td>133.507500</td>\n",
       "      <td>6.374400</td>\n",
       "      <td>159.778500</td>\n",
       "      <td>6.029600</td>\n",
       "      <td>100.170000</td>\n",
       "      <td>10.096000</td>\n",
       "      <td>54.253500</td>\n",
       "      <td>8.712000</td>\n",
       "      <td>95.970000</td>\n",
       "      <td>0.000000</td>\n",
       "    </tr>\n",
       "    <tr>\n",
       "      <th>25%</th>\n",
       "      <td>100.090000</td>\n",
       "      <td>42.000000</td>\n",
       "      <td>4.000000</td>\n",
       "      <td>42.000000</td>\n",
       "      <td>13.703200</td>\n",
       "      <td>116.067000</td>\n",
       "      <td>13.147200</td>\n",
       "      <td>176.809500</td>\n",
       "      <td>8.842200</td>\n",
       "      <td>192.651375</td>\n",
       "      <td>8.604000</td>\n",
       "      <td>159.715500</td>\n",
       "      <td>14.529600</td>\n",
       "      <td>112.365750</td>\n",
       "      <td>11.912000</td>\n",
       "      <td>158.109000</td>\n",
       "      <td>0.000000</td>\n",
       "    </tr>\n",
       "    <tr>\n",
       "      <th>50%</th>\n",
       "      <td>122.355000</td>\n",
       "      <td>73.500000</td>\n",
       "      <td>6.400000</td>\n",
       "      <td>63.000000</td>\n",
       "      <td>14.239200</td>\n",
       "      <td>123.207000</td>\n",
       "      <td>13.702400</td>\n",
       "      <td>183.949500</td>\n",
       "      <td>9.378800</td>\n",
       "      <td>199.741500</td>\n",
       "      <td>9.143200</td>\n",
       "      <td>169.359750</td>\n",
       "      <td>15.364000</td>\n",
       "      <td>123.007500</td>\n",
       "      <td>12.504000</td>\n",
       "      <td>168.441000</td>\n",
       "      <td>0.000000</td>\n",
       "    </tr>\n",
       "    <tr>\n",
       "      <th>75%</th>\n",
       "      <td>149.247500</td>\n",
       "      <td>105.000000</td>\n",
       "      <td>8.800000</td>\n",
       "      <td>84.000000</td>\n",
       "      <td>14.786400</td>\n",
       "      <td>130.357500</td>\n",
       "      <td>14.239200</td>\n",
       "      <td>190.932000</td>\n",
       "      <td>9.916000</td>\n",
       "      <td>206.944500</td>\n",
       "      <td>9.679200</td>\n",
       "      <td>178.741500</td>\n",
       "      <td>16.161600</td>\n",
       "      <td>133.465500</td>\n",
       "      <td>13.098400</td>\n",
       "      <td>179.361000</td>\n",
       "      <td>0.000000</td>\n",
       "    </tr>\n",
       "    <tr>\n",
       "      <th>max</th>\n",
       "      <td>385.860000</td>\n",
       "      <td>283.500000</td>\n",
       "      <td>23.200000</td>\n",
       "      <td>252.000000</td>\n",
       "      <td>17.199200</td>\n",
       "      <td>173.082000</td>\n",
       "      <td>17.140000</td>\n",
       "      <td>226.201500</td>\n",
       "      <td>12.335200</td>\n",
       "      <td>249.973500</td>\n",
       "      <td>12.329600</td>\n",
       "      <td>236.029500</td>\n",
       "      <td>20.512000</td>\n",
       "      <td>185.461500</td>\n",
       "      <td>18.170400</td>\n",
       "      <td>234.181500</td>\n",
       "      <td>1.000000</td>\n",
       "    </tr>\n",
       "  </tbody>\n",
       "</table>\n",
       "</div>"
      ],
      "text/plain": [
       "                 ld            m0            m1            m2            m3  \\\n",
       "count  22362.000000  22584.000000  22584.000000  22584.000000  22270.000000   \n",
       "mean     127.893905     78.002391      6.589621     65.664054     14.241585   \n",
       "std       39.078070     43.156539      3.360565     34.690224      0.801207   \n",
       "min       33.160000      0.000000      0.000000      0.000000     11.174400   \n",
       "25%      100.090000     42.000000      4.000000     42.000000     13.703200   \n",
       "50%      122.355000     73.500000      6.400000     63.000000     14.239200   \n",
       "75%      149.247500    105.000000      8.800000     84.000000     14.786400   \n",
       "max      385.860000    283.500000     23.200000    252.000000     17.199200   \n",
       "\n",
       "                 m4            m5            m6            m7            m8  \\\n",
       "count  22117.000000  22008.000000  21909.000000  21796.000000  21684.000000   \n",
       "mean     123.207337     13.697683    183.894313      9.380175    199.786867   \n",
       "std       10.481427      0.798463     10.478648      0.800904     10.578785   \n",
       "min       84.084000     10.250400    133.507500      6.374400    159.778500   \n",
       "25%      116.067000     13.147200    176.809500      8.842200    192.651375   \n",
       "50%      123.207000     13.702400    183.949500      9.378800    199.741500   \n",
       "75%      130.357500     14.239200    190.932000      9.916000    206.944500   \n",
       "max      173.082000     17.140000    226.201500     12.335200    249.973500   \n",
       "\n",
       "                 m9           m10           m11           m12           m13  \\\n",
       "count  21537.000000  21484.000000  21357.000000  21203.000000  21085.000000   \n",
       "mean       9.143454    169.239563     15.334764    122.868388     12.521853   \n",
       "std        0.799078     14.754047      1.214489     15.669803      0.923849   \n",
       "min        6.029600    100.170000     10.096000     54.253500      8.712000   \n",
       "25%        8.604000    159.715500     14.529600    112.365750     11.912000   \n",
       "50%        9.143200    169.359750     15.364000    123.007500     12.504000   \n",
       "75%        9.679200    178.741500     16.161600    133.465500     13.098400   \n",
       "max       12.329600    236.029500     20.512000    185.461500     18.170400   \n",
       "\n",
       "                m14          pred  \n",
       "count  20995.000000  22584.000000  \n",
       "mean     168.530817      0.215772  \n",
       "std       15.643776      0.411366  \n",
       "min       95.970000      0.000000  \n",
       "25%      158.109000      0.000000  \n",
       "50%      168.441000      0.000000  \n",
       "75%      179.361000      0.000000  \n",
       "max      234.181500      1.000000  "
      ]
     },
     "execution_count": 3,
     "metadata": {},
     "output_type": "execute_result"
    }
   ],
   "source": [
    "df.describe()"
   ]
  },
  {
   "cell_type": "code",
   "execution_count": 4,
   "id": "1bfe6f3d",
   "metadata": {},
   "outputs": [
    {
     "data": {
      "text/plain": [
       "(22584, 19)"
      ]
     },
     "execution_count": 4,
     "metadata": {},
     "output_type": "execute_result"
    }
   ],
   "source": [
    "df.shape"
   ]
  },
  {
   "cell_type": "code",
   "execution_count": 5,
   "id": "9c6f3b20",
   "metadata": {},
   "outputs": [
    {
     "data": {
      "text/plain": [
       "pc         0\n",
       "ld       222\n",
       "m0         0\n",
       "m1         0\n",
       "m2         0\n",
       "m3       314\n",
       "m4       467\n",
       "m5       576\n",
       "m6       675\n",
       "m7       788\n",
       "m8       900\n",
       "m9      1047\n",
       "m10     1100\n",
       "m11     1227\n",
       "m12     1381\n",
       "m13     1499\n",
       "m14     1589\n",
       "ma         0\n",
       "pred       0\n",
       "dtype: int64"
      ]
     },
     "execution_count": 5,
     "metadata": {},
     "output_type": "execute_result"
    }
   ],
   "source": [
    "df.isnull().sum()"
   ]
  },
  {
   "cell_type": "code",
   "execution_count": 6,
   "id": "7a3a17d9",
   "metadata": {},
   "outputs": [
    {
     "data": {
      "text/plain": [
       "pc       object\n",
       "ld      float64\n",
       "m0      float64\n",
       "m1      float64\n",
       "m2      float64\n",
       "m3      float64\n",
       "m4      float64\n",
       "m5      float64\n",
       "m6      float64\n",
       "m7      float64\n",
       "m8      float64\n",
       "m9      float64\n",
       "m10     float64\n",
       "m11     float64\n",
       "m12     float64\n",
       "m13     float64\n",
       "m14     float64\n",
       "ma       object\n",
       "pred      int64\n",
       "dtype: object"
      ]
     },
     "execution_count": 6,
     "metadata": {},
     "output_type": "execute_result"
    }
   ],
   "source": [
    "df.dtypes"
   ]
  },
  {
   "cell_type": "code",
   "execution_count": 7,
   "id": "8ccc7317",
   "metadata": {},
   "outputs": [
    {
     "name": "stderr",
     "output_type": "stream",
     "text": [
      "C:\\Users\\chidw\\AppData\\Local\\Temp/ipykernel_7044/3358723971.py:1: FutureWarning: Dropping of nuisance columns in DataFrame reductions (with 'numeric_only=None') is deprecated; in a future version this will raise TypeError.  Select only valid columns before calling the reduction.\n",
      "  df=df.fillna(df.mean())\n"
     ]
    }
   ],
   "source": [
    "df=df.fillna(df.mean())"
   ]
  },
  {
   "cell_type": "code",
   "execution_count": 8,
   "id": "9b2c99be",
   "metadata": {},
   "outputs": [
    {
     "data": {
      "text/plain": [
       "pc      0\n",
       "ld      0\n",
       "m0      0\n",
       "m1      0\n",
       "m2      0\n",
       "m3      0\n",
       "m4      0\n",
       "m5      0\n",
       "m6      0\n",
       "m7      0\n",
       "m8      0\n",
       "m9      0\n",
       "m10     0\n",
       "m11     0\n",
       "m12     0\n",
       "m13     0\n",
       "m14     0\n",
       "ma      0\n",
       "pred    0\n",
       "dtype: int64"
      ]
     },
     "execution_count": 8,
     "metadata": {},
     "output_type": "execute_result"
    }
   ],
   "source": [
    "df.isnull().sum()"
   ]
  },
  {
   "cell_type": "code",
   "execution_count": 9,
   "id": "02544d17",
   "metadata": {},
   "outputs": [
    {
     "data": {
      "text/plain": [
       "(22584, 19)"
      ]
     },
     "execution_count": 9,
     "metadata": {},
     "output_type": "execute_result"
    }
   ],
   "source": [
    "df.shape"
   ]
  },
  {
   "cell_type": "code",
   "execution_count": 10,
   "id": "3f5d87c3",
   "metadata": {},
   "outputs": [
    {
     "data": {
      "text/plain": [
       "<AxesSubplot:>"
      ]
     },
     "execution_count": 10,
     "metadata": {},
     "output_type": "execute_result"
    },
    {
     "data": {
      "image/png": "[encoded data removed]",
      "text/plain": [
       "<Figure size 1440x576 with 2 Axes>"
      ]
     },
     "metadata": {
      "needs_background": "light"
     },
     "output_type": "display_data"
    }
   ],
   "source": [
    "plt.figure(figsize=(20,8))\n",
    "sns.heatmap(df.corr(),annot=True,cmap='Blues')"
   ]
  },
  {
   "cell_type": "code",
   "execution_count": 11,
   "id": "8664105f",
   "metadata": {},
   "outputs": [
    {
     "data": {
      "image/png": "[encoded data removed]",
      "text/plain": [
       "<Figure size 432x288 with 1 Axes>"
      ]
     },
     "metadata": {
      "needs_background": "light"
     },
     "output_type": "display_data"
    },
    {
     "data": {
      "image/png": "[encoded data removed]",
      "text/plain": [
       "<Figure size 432x288 with 1 Axes>"
      ]
     },
     "metadata": {
      "needs_background": "light"
     },
     "output_type": "display_data"
    },
    {
     "data": {
      "image/png": "[encoded data removed]",
      "text/plain": [
       "<Figure size 432x288 with 1 Axes>"
      ]
     },
     "metadata": {
      "needs_background": "light"
     },
     "output_type": "display_data"
    },
    {
     "data": {
      "image/png": "[encoded data removed]",
      "text/plain": [
       "<Figure size 432x288 with 1 Axes>"
      ]
     },
     "metadata": {
      "needs_background": "light"
     },
     "output_type": "display_data"
    },
    {
     "data": {
      "image/png": "[encoded data removed]",
      "text/plain": [
       "<Figure size 432x288 with 1 Axes>"
      ]
     },
     "metadata": {
      "needs_background": "light"
     },
     "output_type": "display_data"
    },
    {
     "data": {
      "image/png": "[encoded data removed]",
      "text/plain": [
       "<Figure size 432x288 with 1 Axes>"
      ]
     },
     "metadata": {
      "needs_background": "light"
     },
     "output_type": "display_data"
    },
    {
     "data": {
      "image/png": "[encoded data removed]",
      "text/plain": [
       "<Figure size 432x288 with 1 Axes>"
      ]
     },
     "metadata": {
      "needs_background": "light"
     },
     "output_type": "display_data"
    },
    {
     "data": {
      "image/png": "[encoded data removed]",
      "text/plain": [
       "<Figure size 432x288 with 1 Axes>"
      ]
     },
     "metadata": {
      "needs_background": "light"
     },
     "output_type": "display_data"
    },
    {
     "data": {
      "image/png": "[encoded data removed]",
      "text/plain": [
       "<Figure size 432x288 with 1 Axes>"
      ]
     },
     "metadata": {
      "needs_background": "light"
     },
     "output_type": "display_data"
    },
    {
     "data": {
      "image/png": "[encoded data removed]",
      "text/plain": [
       "<Figure size 432x288 with 1 Axes>"
      ]
     },
     "metadata": {
      "needs_background": "light"
     },
     "output_type": "display_data"
    },
    {
     "data": {
      "image/png": "[encoded data removed]",
      "text/plain": [
       "<Figure size 432x288 with 1 Axes>"
      ]
     },
     "metadata": {
      "needs_background": "light"
     },
     "output_type": "display_data"
    },
    {
     "data": {
      "image/png": "[encoded data removed]",
      "text/plain": [
       "<Figure size 432x288 with 1 Axes>"
      ]
     },
     "metadata": {
      "needs_background": "light"
     },
     "output_type": "display_data"
    },
    {
     "data": {
      "image/png": "[encoded data removed]",
      "text/plain": [
       "<Figure size 432x288 with 1 Axes>"
      ]
     },
     "metadata": {
      "needs_background": "light"
     },
     "output_type": "display_data"
    },
    {
     "data": {
      "image/png": "[encoded data removed]",
      "text/plain": [
       "<Figure size 432x288 with 1 Axes>"
      ]
     },
     "metadata": {
      "needs_background": "light"
     },
     "output_type": "display_data"
    },
    {
     "data": {
      "image/png": "[encoded data removed]",
      "text/plain": [
       "<Figure size 432x288 with 1 Axes>"
      ]
     },
     "metadata": {
      "needs_background": "light"
     },
     "output_type": "display_data"
    },
    {
     "data": {
      "image/png": "[encoded data removed]",
      "text/plain": [
       "<Figure size 432x288 with 1 Axes>"
      ]
     },
     "metadata": {
      "needs_background": "light"
     },
     "output_type": "display_data"
    },
    {
     "data": {
      "image/png": "[encoded data removed]",
      "text/plain": [
       "<Figure size 432x288 with 1 Axes>"
      ]
     },
     "metadata": {
      "needs_background": "light"
     },
     "output_type": "display_data"
    }
   ],
   "source": [
    "num_col=df.select_dtypes(include=['float','int']).columns\n",
    "for col in num_col:\n",
    "    plt.figure()\n",
    "    sns.boxplot(x=df[col])\n",
    "    plt.title(col)\n",
    "    plt.show()"
   ]
  },
  {
   "cell_type": "code",
   "execution_count": 12,
   "id": "6601aafc",
   "metadata": {},
   "outputs": [],
   "source": [
    "from scipy import stats\n",
    "z_scores = stats.zscore(df[num_col])\n",
    "outliers = (z_scores>3).any(axis=1)\n",
    "outlier_rows=df[outliers]\n",
    "\n",
    "outlier_rows\n",
    "\n",
    "df=df[~outliers]"
   ]
  },
  {
   "cell_type": "code",
   "execution_count": 13,
   "id": "6eca4450",
   "metadata": {},
   "outputs": [
    {
     "data": {
      "text/plain": [
       "(21390, 19)"
      ]
     },
     "execution_count": 13,
     "metadata": {},
     "output_type": "execute_result"
    }
   ],
   "source": [
    "df.shape"
   ]
  },
  {
   "cell_type": "code",
   "execution_count": 14,
   "id": "f8a5622d",
   "metadata": {},
   "outputs": [
    {
     "data": {
      "text/plain": [
       "array(['m78', 'm76', 'm55', 'm75'], dtype=object)"
      ]
     },
     "execution_count": 14,
     "metadata": {},
     "output_type": "execute_result"
    }
   ],
   "source": [
    "df.ma.unique()"
   ]
  },
  {
   "cell_type": "code",
   "execution_count": 15,
   "id": "fcddd9d7",
   "metadata": {},
   "outputs": [
    {
     "data": {
      "text/html": [
       "<div>\n",
       "<style scoped>\n",
       "    .dataframe tbody tr th:only-of-type {\n",
       "        vertical-align: middle;\n",
       "    }\n",
       "\n",
       "    .dataframe tbody tr th {\n",
       "        vertical-align: top;\n",
       "    }\n",
       "\n",
       "    .dataframe thead th {\n",
       "        text-align: right;\n",
       "    }\n",
       "</style>\n",
       "<table border=\"1\" class=\"dataframe\">\n",
       "  <thead>\n",
       "    <tr style=\"text-align: right;\">\n",
       "      <th></th>\n",
       "      <th>m55</th>\n",
       "      <th>m75</th>\n",
       "      <th>m76</th>\n",
       "      <th>m78</th>\n",
       "    </tr>\n",
       "  </thead>\n",
       "  <tbody>\n",
       "    <tr>\n",
       "      <th>0</th>\n",
       "      <td>0</td>\n",
       "      <td>0</td>\n",
       "      <td>0</td>\n",
       "      <td>1</td>\n",
       "    </tr>\n",
       "    <tr>\n",
       "      <th>1</th>\n",
       "      <td>0</td>\n",
       "      <td>0</td>\n",
       "      <td>0</td>\n",
       "      <td>1</td>\n",
       "    </tr>\n",
       "    <tr>\n",
       "      <th>2</th>\n",
       "      <td>0</td>\n",
       "      <td>0</td>\n",
       "      <td>1</td>\n",
       "      <td>0</td>\n",
       "    </tr>\n",
       "    <tr>\n",
       "      <th>3</th>\n",
       "      <td>1</td>\n",
       "      <td>0</td>\n",
       "      <td>0</td>\n",
       "      <td>0</td>\n",
       "    </tr>\n",
       "    <tr>\n",
       "      <th>4</th>\n",
       "      <td>0</td>\n",
       "      <td>0</td>\n",
       "      <td>1</td>\n",
       "      <td>0</td>\n",
       "    </tr>\n",
       "    <tr>\n",
       "      <th>...</th>\n",
       "      <td>...</td>\n",
       "      <td>...</td>\n",
       "      <td>...</td>\n",
       "      <td>...</td>\n",
       "    </tr>\n",
       "    <tr>\n",
       "      <th>22579</th>\n",
       "      <td>0</td>\n",
       "      <td>0</td>\n",
       "      <td>1</td>\n",
       "      <td>0</td>\n",
       "    </tr>\n",
       "    <tr>\n",
       "      <th>22580</th>\n",
       "      <td>1</td>\n",
       "      <td>0</td>\n",
       "      <td>0</td>\n",
       "      <td>0</td>\n",
       "    </tr>\n",
       "    <tr>\n",
       "      <th>22581</th>\n",
       "      <td>0</td>\n",
       "      <td>0</td>\n",
       "      <td>0</td>\n",
       "      <td>1</td>\n",
       "    </tr>\n",
       "    <tr>\n",
       "      <th>22582</th>\n",
       "      <td>0</td>\n",
       "      <td>0</td>\n",
       "      <td>0</td>\n",
       "      <td>1</td>\n",
       "    </tr>\n",
       "    <tr>\n",
       "      <th>22583</th>\n",
       "      <td>0</td>\n",
       "      <td>0</td>\n",
       "      <td>1</td>\n",
       "      <td>0</td>\n",
       "    </tr>\n",
       "  </tbody>\n",
       "</table>\n",
       "<p>21390 rows × 4 columns</p>\n",
       "</div>"
      ],
      "text/plain": [
       "       m55  m75  m76  m78\n",
       "0        0    0    0    1\n",
       "1        0    0    0    1\n",
       "2        0    0    1    0\n",
       "3        1    0    0    0\n",
       "4        0    0    1    0\n",
       "...    ...  ...  ...  ...\n",
       "22579    0    0    1    0\n",
       "22580    1    0    0    0\n",
       "22581    0    0    0    1\n",
       "22582    0    0    0    1\n",
       "22583    0    0    1    0\n",
       "\n",
       "[21390 rows x 4 columns]"
      ]
     },
     "execution_count": 15,
     "metadata": {},
     "output_type": "execute_result"
    }
   ],
   "source": [
    "ma_conv = pd.get_dummies(df.ma)\n",
    "\n",
    "ma_conv"
   ]
  },
  {
   "cell_type": "code",
   "execution_count": 16,
   "id": "ee89b026",
   "metadata": {},
   "outputs": [
    {
     "data": {
      "text/html": [
       "<div>\n",
       "<style scoped>\n",
       "    .dataframe tbody tr th:only-of-type {\n",
       "        vertical-align: middle;\n",
       "    }\n",
       "\n",
       "    .dataframe tbody tr th {\n",
       "        vertical-align: top;\n",
       "    }\n",
       "\n",
       "    .dataframe thead th {\n",
       "        text-align: right;\n",
       "    }\n",
       "</style>\n",
       "<table border=\"1\" class=\"dataframe\">\n",
       "  <thead>\n",
       "    <tr style=\"text-align: right;\">\n",
       "      <th></th>\n",
       "      <th>pc</th>\n",
       "      <th>ld</th>\n",
       "      <th>m0</th>\n",
       "      <th>m1</th>\n",
       "      <th>m2</th>\n",
       "      <th>m3</th>\n",
       "      <th>m4</th>\n",
       "      <th>m5</th>\n",
       "      <th>m6</th>\n",
       "      <th>m7</th>\n",
       "      <th>...</th>\n",
       "      <th>m11</th>\n",
       "      <th>m12</th>\n",
       "      <th>m13</th>\n",
       "      <th>m14</th>\n",
       "      <th>ma</th>\n",
       "      <th>pred</th>\n",
       "      <th>m55</th>\n",
       "      <th>m75</th>\n",
       "      <th>m76</th>\n",
       "      <th>m78</th>\n",
       "    </tr>\n",
       "  </thead>\n",
       "  <tbody>\n",
       "    <tr>\n",
       "      <th>0</th>\n",
       "      <td>y</td>\n",
       "      <td>83.71</td>\n",
       "      <td>63.0</td>\n",
       "      <td>7.2</td>\n",
       "      <td>52.5</td>\n",
       "      <td>14.0232</td>\n",
       "      <td>130.8300</td>\n",
       "      <td>12.4280</td>\n",
       "      <td>188.8425</td>\n",
       "      <td>8.9520</td>\n",
       "      <td>...</td>\n",
       "      <td>16.096800</td>\n",
       "      <td>150.3390</td>\n",
       "      <td>12.488000</td>\n",
       "      <td>173.124000</td>\n",
       "      <td>m78</td>\n",
       "      <td>0</td>\n",
       "      <td>0</td>\n",
       "      <td>0</td>\n",
       "      <td>0</td>\n",
       "      <td>1</td>\n",
       "    </tr>\n",
       "    <tr>\n",
       "      <th>1</th>\n",
       "      <td>y</td>\n",
       "      <td>108.94</td>\n",
       "      <td>31.5</td>\n",
       "      <td>12.8</td>\n",
       "      <td>84.0</td>\n",
       "      <td>13.2840</td>\n",
       "      <td>128.8350</td>\n",
       "      <td>13.5256</td>\n",
       "      <td>183.0990</td>\n",
       "      <td>8.8520</td>\n",
       "      <td>...</td>\n",
       "      <td>13.330400</td>\n",
       "      <td>101.0205</td>\n",
       "      <td>12.509600</td>\n",
       "      <td>131.407500</td>\n",
       "      <td>m78</td>\n",
       "      <td>0</td>\n",
       "      <td>0</td>\n",
       "      <td>0</td>\n",
       "      <td>0</td>\n",
       "      <td>1</td>\n",
       "    </tr>\n",
       "    <tr>\n",
       "      <th>2</th>\n",
       "      <td>E</td>\n",
       "      <td>169.65</td>\n",
       "      <td>0.0</td>\n",
       "      <td>5.6</td>\n",
       "      <td>73.5</td>\n",
       "      <td>14.5472</td>\n",
       "      <td>128.9295</td>\n",
       "      <td>13.6424</td>\n",
       "      <td>174.4680</td>\n",
       "      <td>8.9800</td>\n",
       "      <td>...</td>\n",
       "      <td>15.334764</td>\n",
       "      <td>122.5350</td>\n",
       "      <td>11.713600</td>\n",
       "      <td>176.820000</td>\n",
       "      <td>m76</td>\n",
       "      <td>1</td>\n",
       "      <td>0</td>\n",
       "      <td>0</td>\n",
       "      <td>1</td>\n",
       "      <td>0</td>\n",
       "    </tr>\n",
       "    <tr>\n",
       "      <th>3</th>\n",
       "      <td>x</td>\n",
       "      <td>122.42</td>\n",
       "      <td>31.5</td>\n",
       "      <td>7.2</td>\n",
       "      <td>63.0</td>\n",
       "      <td>15.0152</td>\n",
       "      <td>119.8575</td>\n",
       "      <td>12.3344</td>\n",
       "      <td>186.8580</td>\n",
       "      <td>10.7208</td>\n",
       "      <td>...</td>\n",
       "      <td>15.334764</td>\n",
       "      <td>124.8030</td>\n",
       "      <td>13.842400</td>\n",
       "      <td>168.262500</td>\n",
       "      <td>m55</td>\n",
       "      <td>0</td>\n",
       "      <td>1</td>\n",
       "      <td>0</td>\n",
       "      <td>0</td>\n",
       "      <td>0</td>\n",
       "    </tr>\n",
       "    <tr>\n",
       "      <th>4</th>\n",
       "      <td>E</td>\n",
       "      <td>125.43</td>\n",
       "      <td>94.5</td>\n",
       "      <td>7.2</td>\n",
       "      <td>42.0</td>\n",
       "      <td>14.4176</td>\n",
       "      <td>135.4290</td>\n",
       "      <td>14.5824</td>\n",
       "      <td>187.8135</td>\n",
       "      <td>9.3088</td>\n",
       "      <td>...</td>\n",
       "      <td>14.472000</td>\n",
       "      <td>120.2145</td>\n",
       "      <td>12.521853</td>\n",
       "      <td>150.118500</td>\n",
       "      <td>m76</td>\n",
       "      <td>0</td>\n",
       "      <td>0</td>\n",
       "      <td>0</td>\n",
       "      <td>1</td>\n",
       "      <td>0</td>\n",
       "    </tr>\n",
       "    <tr>\n",
       "      <th>...</th>\n",
       "      <td>...</td>\n",
       "      <td>...</td>\n",
       "      <td>...</td>\n",
       "      <td>...</td>\n",
       "      <td>...</td>\n",
       "      <td>...</td>\n",
       "      <td>...</td>\n",
       "      <td>...</td>\n",
       "      <td>...</td>\n",
       "      <td>...</td>\n",
       "      <td>...</td>\n",
       "      <td>...</td>\n",
       "      <td>...</td>\n",
       "      <td>...</td>\n",
       "      <td>...</td>\n",
       "      <td>...</td>\n",
       "      <td>...</td>\n",
       "      <td>...</td>\n",
       "      <td>...</td>\n",
       "      <td>...</td>\n",
       "      <td>...</td>\n",
       "    </tr>\n",
       "    <tr>\n",
       "      <th>22579</th>\n",
       "      <td>E</td>\n",
       "      <td>139.08</td>\n",
       "      <td>73.5</td>\n",
       "      <td>7.2</td>\n",
       "      <td>84.0</td>\n",
       "      <td>13.8016</td>\n",
       "      <td>115.9725</td>\n",
       "      <td>13.8856</td>\n",
       "      <td>189.0000</td>\n",
       "      <td>8.6536</td>\n",
       "      <td>...</td>\n",
       "      <td>17.374400</td>\n",
       "      <td>164.7240</td>\n",
       "      <td>12.572000</td>\n",
       "      <td>144.406500</td>\n",
       "      <td>m76</td>\n",
       "      <td>1</td>\n",
       "      <td>0</td>\n",
       "      <td>0</td>\n",
       "      <td>1</td>\n",
       "      <td>0</td>\n",
       "    </tr>\n",
       "    <tr>\n",
       "      <th>22580</th>\n",
       "      <td>x</td>\n",
       "      <td>156.74</td>\n",
       "      <td>63.0</td>\n",
       "      <td>5.6</td>\n",
       "      <td>105.0</td>\n",
       "      <td>13.6464</td>\n",
       "      <td>130.2000</td>\n",
       "      <td>12.4688</td>\n",
       "      <td>180.3690</td>\n",
       "      <td>10.6984</td>\n",
       "      <td>...</td>\n",
       "      <td>13.565600</td>\n",
       "      <td>129.5070</td>\n",
       "      <td>11.134400</td>\n",
       "      <td>168.530817</td>\n",
       "      <td>m55</td>\n",
       "      <td>1</td>\n",
       "      <td>1</td>\n",
       "      <td>0</td>\n",
       "      <td>0</td>\n",
       "      <td>0</td>\n",
       "    </tr>\n",
       "    <tr>\n",
       "      <th>22581</th>\n",
       "      <td>w</td>\n",
       "      <td>115.63</td>\n",
       "      <td>147.0</td>\n",
       "      <td>4.8</td>\n",
       "      <td>31.5</td>\n",
       "      <td>13.4344</td>\n",
       "      <td>115.5000</td>\n",
       "      <td>13.5752</td>\n",
       "      <td>190.8900</td>\n",
       "      <td>9.6144</td>\n",
       "      <td>...</td>\n",
       "      <td>15.971200</td>\n",
       "      <td>109.3680</td>\n",
       "      <td>12.848000</td>\n",
       "      <td>153.583500</td>\n",
       "      <td>m78</td>\n",
       "      <td>0</td>\n",
       "      <td>0</td>\n",
       "      <td>0</td>\n",
       "      <td>0</td>\n",
       "      <td>1</td>\n",
       "    </tr>\n",
       "    <tr>\n",
       "      <th>22582</th>\n",
       "      <td>y</td>\n",
       "      <td>216.26</td>\n",
       "      <td>105.0</td>\n",
       "      <td>4.8</td>\n",
       "      <td>31.5</td>\n",
       "      <td>13.8176</td>\n",
       "      <td>112.5285</td>\n",
       "      <td>13.2408</td>\n",
       "      <td>166.8555</td>\n",
       "      <td>9.0160</td>\n",
       "      <td>...</td>\n",
       "      <td>16.788800</td>\n",
       "      <td>135.1770</td>\n",
       "      <td>12.733600</td>\n",
       "      <td>158.098500</td>\n",
       "      <td>m78</td>\n",
       "      <td>0</td>\n",
       "      <td>0</td>\n",
       "      <td>0</td>\n",
       "      <td>0</td>\n",
       "      <td>1</td>\n",
       "    </tr>\n",
       "    <tr>\n",
       "      <th>22583</th>\n",
       "      <td>E</td>\n",
       "      <td>120.65</td>\n",
       "      <td>31.5</td>\n",
       "      <td>6.4</td>\n",
       "      <td>42.0</td>\n",
       "      <td>14.8536</td>\n",
       "      <td>149.5305</td>\n",
       "      <td>13.1448</td>\n",
       "      <td>189.3570</td>\n",
       "      <td>10.0600</td>\n",
       "      <td>...</td>\n",
       "      <td>16.443200</td>\n",
       "      <td>107.6355</td>\n",
       "      <td>12.722400</td>\n",
       "      <td>169.701000</td>\n",
       "      <td>m76</td>\n",
       "      <td>0</td>\n",
       "      <td>0</td>\n",
       "      <td>0</td>\n",
       "      <td>1</td>\n",
       "      <td>0</td>\n",
       "    </tr>\n",
       "  </tbody>\n",
       "</table>\n",
       "<p>21390 rows × 23 columns</p>\n",
       "</div>"
      ],
      "text/plain": [
       "      pc      ld     m0    m1     m2       m3        m4       m5        m6  \\\n",
       "0      y   83.71   63.0   7.2   52.5  14.0232  130.8300  12.4280  188.8425   \n",
       "1      y  108.94   31.5  12.8   84.0  13.2840  128.8350  13.5256  183.0990   \n",
       "2      E  169.65    0.0   5.6   73.5  14.5472  128.9295  13.6424  174.4680   \n",
       "3      x  122.42   31.5   7.2   63.0  15.0152  119.8575  12.3344  186.8580   \n",
       "4      E  125.43   94.5   7.2   42.0  14.4176  135.4290  14.5824  187.8135   \n",
       "...   ..     ...    ...   ...    ...      ...       ...      ...       ...   \n",
       "22579  E  139.08   73.5   7.2   84.0  13.8016  115.9725  13.8856  189.0000   \n",
       "22580  x  156.74   63.0   5.6  105.0  13.6464  130.2000  12.4688  180.3690   \n",
       "22581  w  115.63  147.0   4.8   31.5  13.4344  115.5000  13.5752  190.8900   \n",
       "22582  y  216.26  105.0   4.8   31.5  13.8176  112.5285  13.2408  166.8555   \n",
       "22583  E  120.65   31.5   6.4   42.0  14.8536  149.5305  13.1448  189.3570   \n",
       "\n",
       "            m7  ...        m11       m12        m13         m14   ma  pred  \\\n",
       "0       8.9520  ...  16.096800  150.3390  12.488000  173.124000  m78     0   \n",
       "1       8.8520  ...  13.330400  101.0205  12.509600  131.407500  m78     0   \n",
       "2       8.9800  ...  15.334764  122.5350  11.713600  176.820000  m76     1   \n",
       "3      10.7208  ...  15.334764  124.8030  13.842400  168.262500  m55     0   \n",
       "4       9.3088  ...  14.472000  120.2145  12.521853  150.118500  m76     0   \n",
       "...        ...  ...        ...       ...        ...         ...  ...   ...   \n",
       "22579   8.6536  ...  17.374400  164.7240  12.572000  144.406500  m76     1   \n",
       "22580  10.6984  ...  13.565600  129.5070  11.134400  168.530817  m55     1   \n",
       "22581   9.6144  ...  15.971200  109.3680  12.848000  153.583500  m78     0   \n",
       "22582   9.0160  ...  16.788800  135.1770  12.733600  158.098500  m78     0   \n",
       "22583  10.0600  ...  16.443200  107.6355  12.722400  169.701000  m76     0   \n",
       "\n",
       "       m55 m75  m76  m78  \n",
       "0        0   0    0    1  \n",
       "1        0   0    0    1  \n",
       "2        0   0    1    0  \n",
       "3        1   0    0    0  \n",
       "4        0   0    1    0  \n",
       "...    ...  ..  ...  ...  \n",
       "22579    0   0    1    0  \n",
       "22580    1   0    0    0  \n",
       "22581    0   0    0    1  \n",
       "22582    0   0    0    1  \n",
       "22583    0   0    1    0  \n",
       "\n",
       "[21390 rows x 23 columns]"
      ]
     },
     "execution_count": 16,
     "metadata": {},
     "output_type": "execute_result"
    }
   ],
   "source": [
    "df = pd.concat([df,ma_conv],axis=1)\n",
    "\n",
    "df"
   ]
  },
  {
   "cell_type": "code",
   "execution_count": 17,
   "id": "588e5c3e",
   "metadata": {},
   "outputs": [
    {
     "data": {
      "text/html": [
       "<div>\n",
       "<style scoped>\n",
       "    .dataframe tbody tr th:only-of-type {\n",
       "        vertical-align: middle;\n",
       "    }\n",
       "\n",
       "    .dataframe tbody tr th {\n",
       "        vertical-align: top;\n",
       "    }\n",
       "\n",
       "    .dataframe thead th {\n",
       "        text-align: right;\n",
       "    }\n",
       "</style>\n",
       "<table border=\"1\" class=\"dataframe\">\n",
       "  <thead>\n",
       "    <tr style=\"text-align: right;\">\n",
       "      <th></th>\n",
       "      <th>pc</th>\n",
       "      <th>ld</th>\n",
       "      <th>m0</th>\n",
       "      <th>m1</th>\n",
       "      <th>m2</th>\n",
       "      <th>m3</th>\n",
       "      <th>m4</th>\n",
       "      <th>m5</th>\n",
       "      <th>m6</th>\n",
       "      <th>m7</th>\n",
       "      <th>...</th>\n",
       "      <th>m10</th>\n",
       "      <th>m11</th>\n",
       "      <th>m12</th>\n",
       "      <th>m13</th>\n",
       "      <th>m14</th>\n",
       "      <th>pred</th>\n",
       "      <th>m55</th>\n",
       "      <th>m75</th>\n",
       "      <th>m76</th>\n",
       "      <th>m78</th>\n",
       "    </tr>\n",
       "  </thead>\n",
       "  <tbody>\n",
       "    <tr>\n",
       "      <th>0</th>\n",
       "      <td>y</td>\n",
       "      <td>83.71</td>\n",
       "      <td>63.0</td>\n",
       "      <td>7.2</td>\n",
       "      <td>52.5</td>\n",
       "      <td>14.0232</td>\n",
       "      <td>130.8300</td>\n",
       "      <td>12.4280</td>\n",
       "      <td>188.8425</td>\n",
       "      <td>8.9520</td>\n",
       "      <td>...</td>\n",
       "      <td>141.9075</td>\n",
       "      <td>16.096800</td>\n",
       "      <td>150.3390</td>\n",
       "      <td>12.488000</td>\n",
       "      <td>173.1240</td>\n",
       "      <td>0</td>\n",
       "      <td>0</td>\n",
       "      <td>0</td>\n",
       "      <td>0</td>\n",
       "      <td>1</td>\n",
       "    </tr>\n",
       "    <tr>\n",
       "      <th>1</th>\n",
       "      <td>y</td>\n",
       "      <td>108.94</td>\n",
       "      <td>31.5</td>\n",
       "      <td>12.8</td>\n",
       "      <td>84.0</td>\n",
       "      <td>13.2840</td>\n",
       "      <td>128.8350</td>\n",
       "      <td>13.5256</td>\n",
       "      <td>183.0990</td>\n",
       "      <td>8.8520</td>\n",
       "      <td>...</td>\n",
       "      <td>154.7805</td>\n",
       "      <td>13.330400</td>\n",
       "      <td>101.0205</td>\n",
       "      <td>12.509600</td>\n",
       "      <td>131.4075</td>\n",
       "      <td>0</td>\n",
       "      <td>0</td>\n",
       "      <td>0</td>\n",
       "      <td>0</td>\n",
       "      <td>1</td>\n",
       "    </tr>\n",
       "    <tr>\n",
       "      <th>2</th>\n",
       "      <td>E</td>\n",
       "      <td>169.65</td>\n",
       "      <td>0.0</td>\n",
       "      <td>5.6</td>\n",
       "      <td>73.5</td>\n",
       "      <td>14.5472</td>\n",
       "      <td>128.9295</td>\n",
       "      <td>13.6424</td>\n",
       "      <td>174.4680</td>\n",
       "      <td>8.9800</td>\n",
       "      <td>...</td>\n",
       "      <td>156.7650</td>\n",
       "      <td>15.334764</td>\n",
       "      <td>122.5350</td>\n",
       "      <td>11.713600</td>\n",
       "      <td>176.8200</td>\n",
       "      <td>1</td>\n",
       "      <td>0</td>\n",
       "      <td>0</td>\n",
       "      <td>1</td>\n",
       "      <td>0</td>\n",
       "    </tr>\n",
       "    <tr>\n",
       "      <th>3</th>\n",
       "      <td>x</td>\n",
       "      <td>122.42</td>\n",
       "      <td>31.5</td>\n",
       "      <td>7.2</td>\n",
       "      <td>63.0</td>\n",
       "      <td>15.0152</td>\n",
       "      <td>119.8575</td>\n",
       "      <td>12.3344</td>\n",
       "      <td>186.8580</td>\n",
       "      <td>10.7208</td>\n",
       "      <td>...</td>\n",
       "      <td>175.7490</td>\n",
       "      <td>15.334764</td>\n",
       "      <td>124.8030</td>\n",
       "      <td>13.842400</td>\n",
       "      <td>168.2625</td>\n",
       "      <td>0</td>\n",
       "      <td>1</td>\n",
       "      <td>0</td>\n",
       "      <td>0</td>\n",
       "      <td>0</td>\n",
       "    </tr>\n",
       "    <tr>\n",
       "      <th>4</th>\n",
       "      <td>E</td>\n",
       "      <td>125.43</td>\n",
       "      <td>94.5</td>\n",
       "      <td>7.2</td>\n",
       "      <td>42.0</td>\n",
       "      <td>14.4176</td>\n",
       "      <td>135.4290</td>\n",
       "      <td>14.5824</td>\n",
       "      <td>187.8135</td>\n",
       "      <td>9.3088</td>\n",
       "      <td>...</td>\n",
       "      <td>172.7040</td>\n",
       "      <td>14.472000</td>\n",
       "      <td>120.2145</td>\n",
       "      <td>12.521853</td>\n",
       "      <td>150.1185</td>\n",
       "      <td>0</td>\n",
       "      <td>0</td>\n",
       "      <td>0</td>\n",
       "      <td>1</td>\n",
       "      <td>0</td>\n",
       "    </tr>\n",
       "  </tbody>\n",
       "</table>\n",
       "<p>5 rows × 22 columns</p>\n",
       "</div>"
      ],
      "text/plain": [
       "  pc      ld    m0    m1    m2       m3        m4       m5        m6       m7  \\\n",
       "0  y   83.71  63.0   7.2  52.5  14.0232  130.8300  12.4280  188.8425   8.9520   \n",
       "1  y  108.94  31.5  12.8  84.0  13.2840  128.8350  13.5256  183.0990   8.8520   \n",
       "2  E  169.65   0.0   5.6  73.5  14.5472  128.9295  13.6424  174.4680   8.9800   \n",
       "3  x  122.42  31.5   7.2  63.0  15.0152  119.8575  12.3344  186.8580  10.7208   \n",
       "4  E  125.43  94.5   7.2  42.0  14.4176  135.4290  14.5824  187.8135   9.3088   \n",
       "\n",
       "   ...       m10        m11       m12        m13       m14  pred  m55  m75  \\\n",
       "0  ...  141.9075  16.096800  150.3390  12.488000  173.1240     0    0    0   \n",
       "1  ...  154.7805  13.330400  101.0205  12.509600  131.4075     0    0    0   \n",
       "2  ...  156.7650  15.334764  122.5350  11.713600  176.8200     1    0    0   \n",
       "3  ...  175.7490  15.334764  124.8030  13.842400  168.2625     0    1    0   \n",
       "4  ...  172.7040  14.472000  120.2145  12.521853  150.1185     0    0    0   \n",
       "\n",
       "   m76  m78  \n",
       "0    0    1  \n",
       "1    0    1  \n",
       "2    1    0  \n",
       "3    0    0  \n",
       "4    1    0  \n",
       "\n",
       "[5 rows x 22 columns]"
      ]
     },
     "execution_count": 17,
     "metadata": {},
     "output_type": "execute_result"
    }
   ],
   "source": [
    "df.drop('ma',axis=1,inplace=True)\n",
    "\n",
    "df.head()"
   ]
  },
  {
   "cell_type": "code",
   "execution_count": 18,
   "id": "3ebfdc81",
   "metadata": {},
   "outputs": [
    {
     "data": {
      "text/plain": [
       "pc       object\n",
       "ld      float64\n",
       "m0      float64\n",
       "m1      float64\n",
       "m2      float64\n",
       "m3      float64\n",
       "m4      float64\n",
       "m5      float64\n",
       "m6      float64\n",
       "m7      float64\n",
       "m8      float64\n",
       "m9      float64\n",
       "m10     float64\n",
       "m11     float64\n",
       "m12     float64\n",
       "m13     float64\n",
       "m14     float64\n",
       "pred      int64\n",
       "m55       uint8\n",
       "m75       uint8\n",
       "m76       uint8\n",
       "m78       uint8\n",
       "dtype: object"
      ]
     },
     "execution_count": 18,
     "metadata": {},
     "output_type": "execute_result"
    }
   ],
   "source": [
    "df.dtypes"
   ]
  },
  {
   "cell_type": "code",
   "execution_count": 19,
   "id": "f355e132",
   "metadata": {},
   "outputs": [
    {
     "data": {
      "text/plain": [
       "array(['y', 'E', 'x', 'w', 'z'], dtype=object)"
      ]
     },
     "execution_count": 19,
     "metadata": {},
     "output_type": "execute_result"
    }
   ],
   "source": [
    "df.pc.unique()"
   ]
  },
  {
   "cell_type": "code",
   "execution_count": 20,
   "id": "6e400c0f",
   "metadata": {},
   "outputs": [
    {
     "data": {
      "text/plain": [
       "ld      float64\n",
       "m0      float64\n",
       "m1      float64\n",
       "m2      float64\n",
       "m3      float64\n",
       "m4      float64\n",
       "m5      float64\n",
       "m6      float64\n",
       "m7      float64\n",
       "m8      float64\n",
       "m9      float64\n",
       "m10     float64\n",
       "m11     float64\n",
       "m12     float64\n",
       "m13     float64\n",
       "m14     float64\n",
       "pred      int64\n",
       "m55       uint8\n",
       "m75       uint8\n",
       "m76       uint8\n",
       "m78       uint8\n",
       "E         uint8\n",
       "w         uint8\n",
       "x         uint8\n",
       "y         uint8\n",
       "z         uint8\n",
       "dtype: object"
      ]
     },
     "execution_count": 20,
     "metadata": {},
     "output_type": "execute_result"
    }
   ],
   "source": [
    "pc_conv=pd.get_dummies(df['pc'])\n",
    "\n",
    "df = pd.concat([df,pc_conv],axis=1)\n",
    "\n",
    "df.drop('pc',axis=1,inplace=True)\n",
    "\n",
    "df.dtypes"
   ]
  },
  {
   "cell_type": "code",
   "execution_count": 21,
   "id": "5a1dd350",
   "metadata": {},
   "outputs": [
    {
     "data": {
      "text/plain": [
       "(14973, 25)"
      ]
     },
     "execution_count": 21,
     "metadata": {},
     "output_type": "execute_result"
    }
   ],
   "source": [
    "from sklearn.model_selection import train_test_split\n",
    "\n",
    "X=df.drop('pred',axis=1)\n",
    "\n",
    "y=df['pred']\n",
    "\n",
    "X_train,X_test,y_train,y_test=train_test_split(X,y,test_size=0.3,random_state=7)\n",
    "\n",
    "X_train.shape"
   ]
  },
  {
   "cell_type": "code",
   "execution_count": 22,
   "id": "f8285385",
   "metadata": {},
   "outputs": [
    {
     "data": {
      "text/plain": [
       "(6417, 25)"
      ]
     },
     "execution_count": 22,
     "metadata": {},
     "output_type": "execute_result"
    }
   ],
   "source": [
    "X_test.shape"
   ]
  },
  {
   "cell_type": "code",
   "execution_count": 23,
   "id": "d13c26fd",
   "metadata": {},
   "outputs": [
    {
     "data": {
      "text/html": [
       "<div>\n",
       "<style scoped>\n",
       "    .dataframe tbody tr th:only-of-type {\n",
       "        vertical-align: middle;\n",
       "    }\n",
       "\n",
       "    .dataframe tbody tr th {\n",
       "        vertical-align: top;\n",
       "    }\n",
       "\n",
       "    .dataframe thead th {\n",
       "        text-align: right;\n",
       "    }\n",
       "</style>\n",
       "<table border=\"1\" class=\"dataframe\">\n",
       "  <thead>\n",
       "    <tr style=\"text-align: right;\">\n",
       "      <th></th>\n",
       "      <th>ld</th>\n",
       "      <th>m0</th>\n",
       "      <th>m1</th>\n",
       "      <th>m2</th>\n",
       "      <th>m3</th>\n",
       "      <th>m4</th>\n",
       "      <th>m5</th>\n",
       "      <th>m6</th>\n",
       "      <th>m7</th>\n",
       "      <th>m8</th>\n",
       "      <th>...</th>\n",
       "      <th>m14</th>\n",
       "      <th>m55</th>\n",
       "      <th>m75</th>\n",
       "      <th>m76</th>\n",
       "      <th>m78</th>\n",
       "      <th>E</th>\n",
       "      <th>w</th>\n",
       "      <th>x</th>\n",
       "      <th>y</th>\n",
       "      <th>z</th>\n",
       "    </tr>\n",
       "  </thead>\n",
       "  <tbody>\n",
       "    <tr>\n",
       "      <th>17749</th>\n",
       "      <td>128.890000</td>\n",
       "      <td>189.0</td>\n",
       "      <td>3.2</td>\n",
       "      <td>21.0</td>\n",
       "      <td>14.0808</td>\n",
       "      <td>124.2465</td>\n",
       "      <td>12.8704</td>\n",
       "      <td>190.2600</td>\n",
       "      <td>8.1976</td>\n",
       "      <td>203.2695</td>\n",
       "      <td>...</td>\n",
       "      <td>162.540</td>\n",
       "      <td>0</td>\n",
       "      <td>0</td>\n",
       "      <td>0</td>\n",
       "      <td>1</td>\n",
       "      <td>0</td>\n",
       "      <td>1</td>\n",
       "      <td>0</td>\n",
       "      <td>0</td>\n",
       "      <td>0</td>\n",
       "    </tr>\n",
       "    <tr>\n",
       "      <th>11252</th>\n",
       "      <td>140.250000</td>\n",
       "      <td>105.0</td>\n",
       "      <td>4.8</td>\n",
       "      <td>0.0</td>\n",
       "      <td>13.5768</td>\n",
       "      <td>136.5735</td>\n",
       "      <td>14.5912</td>\n",
       "      <td>175.6440</td>\n",
       "      <td>8.4760</td>\n",
       "      <td>195.5625</td>\n",
       "      <td>...</td>\n",
       "      <td>169.575</td>\n",
       "      <td>0</td>\n",
       "      <td>0</td>\n",
       "      <td>0</td>\n",
       "      <td>1</td>\n",
       "      <td>0</td>\n",
       "      <td>0</td>\n",
       "      <td>0</td>\n",
       "      <td>1</td>\n",
       "      <td>0</td>\n",
       "    </tr>\n",
       "    <tr>\n",
       "      <th>6107</th>\n",
       "      <td>77.190000</td>\n",
       "      <td>52.5</td>\n",
       "      <td>16.0</td>\n",
       "      <td>52.5</td>\n",
       "      <td>14.3424</td>\n",
       "      <td>108.8010</td>\n",
       "      <td>14.7200</td>\n",
       "      <td>193.8615</td>\n",
       "      <td>8.8232</td>\n",
       "      <td>194.1240</td>\n",
       "      <td>...</td>\n",
       "      <td>156.555</td>\n",
       "      <td>0</td>\n",
       "      <td>1</td>\n",
       "      <td>0</td>\n",
       "      <td>0</td>\n",
       "      <td>0</td>\n",
       "      <td>0</td>\n",
       "      <td>0</td>\n",
       "      <td>0</td>\n",
       "      <td>1</td>\n",
       "    </tr>\n",
       "    <tr>\n",
       "      <th>11608</th>\n",
       "      <td>115.180000</td>\n",
       "      <td>52.5</td>\n",
       "      <td>0.0</td>\n",
       "      <td>126.0</td>\n",
       "      <td>14.1040</td>\n",
       "      <td>126.0315</td>\n",
       "      <td>13.8792</td>\n",
       "      <td>176.9565</td>\n",
       "      <td>10.2016</td>\n",
       "      <td>223.4715</td>\n",
       "      <td>...</td>\n",
       "      <td>181.020</td>\n",
       "      <td>1</td>\n",
       "      <td>0</td>\n",
       "      <td>0</td>\n",
       "      <td>0</td>\n",
       "      <td>0</td>\n",
       "      <td>0</td>\n",
       "      <td>1</td>\n",
       "      <td>0</td>\n",
       "      <td>0</td>\n",
       "    </tr>\n",
       "    <tr>\n",
       "      <th>9026</th>\n",
       "      <td>127.893905</td>\n",
       "      <td>63.0</td>\n",
       "      <td>5.6</td>\n",
       "      <td>42.0</td>\n",
       "      <td>14.9152</td>\n",
       "      <td>126.3360</td>\n",
       "      <td>12.4072</td>\n",
       "      <td>214.1685</td>\n",
       "      <td>10.4344</td>\n",
       "      <td>205.6740</td>\n",
       "      <td>...</td>\n",
       "      <td>156.492</td>\n",
       "      <td>0</td>\n",
       "      <td>0</td>\n",
       "      <td>0</td>\n",
       "      <td>1</td>\n",
       "      <td>0</td>\n",
       "      <td>1</td>\n",
       "      <td>0</td>\n",
       "      <td>0</td>\n",
       "      <td>0</td>\n",
       "    </tr>\n",
       "  </tbody>\n",
       "</table>\n",
       "<p>5 rows × 25 columns</p>\n",
       "</div>"
      ],
      "text/plain": [
       "               ld     m0    m1     m2       m3        m4       m5        m6  \\\n",
       "17749  128.890000  189.0   3.2   21.0  14.0808  124.2465  12.8704  190.2600   \n",
       "11252  140.250000  105.0   4.8    0.0  13.5768  136.5735  14.5912  175.6440   \n",
       "6107    77.190000   52.5  16.0   52.5  14.3424  108.8010  14.7200  193.8615   \n",
       "11608  115.180000   52.5   0.0  126.0  14.1040  126.0315  13.8792  176.9565   \n",
       "9026   127.893905   63.0   5.6   42.0  14.9152  126.3360  12.4072  214.1685   \n",
       "\n",
       "            m7        m8  ...      m14  m55  m75  m76  m78  E  w  x  y  z  \n",
       "17749   8.1976  203.2695  ...  162.540    0    0    0    1  0  1  0  0  0  \n",
       "11252   8.4760  195.5625  ...  169.575    0    0    0    1  0  0  0  1  0  \n",
       "6107    8.8232  194.1240  ...  156.555    0    1    0    0  0  0  0  0  1  \n",
       "11608  10.2016  223.4715  ...  181.020    1    0    0    0  0  0  1  0  0  \n",
       "9026   10.4344  205.6740  ...  156.492    0    0    0    1  0  1  0  0  0  \n",
       "\n",
       "[5 rows x 25 columns]"
      ]
     },
     "execution_count": 23,
     "metadata": {},
     "output_type": "execute_result"
    }
   ],
   "source": [
    "X_train.head()"
   ]
  },
  {
   "cell_type": "code",
   "execution_count": 24,
   "id": "cfc4ee12",
   "metadata": {},
   "outputs": [
    {
     "data": {
      "text/plain": [
       "17749    1\n",
       "11252    0\n",
       "6107     0\n",
       "11608    0\n",
       "9026     1\n",
       "Name: pred, dtype: int64"
      ]
     },
     "execution_count": 24,
     "metadata": {},
     "output_type": "execute_result"
    }
   ],
   "source": [
    "y_train.head()"
   ]
  },
  {
   "cell_type": "code",
   "execution_count": 25,
   "id": "59be1fe7",
   "metadata": {},
   "outputs": [
    {
     "data": {
      "text/plain": [
       "RandomForestClassifier()"
      ]
     },
     "execution_count": 25,
     "metadata": {},
     "output_type": "execute_result"
    }
   ],
   "source": [
    "from sklearn.preprocessing import StandardScaler\n",
    "scaler=StandardScaler()\n",
    "train_X_scaled=scaler.fit_transform(X_train)\n",
    "test_X_scaled=scaler.transform(X_test)\n",
    "\n",
    "from sklearn.ensemble import RandomForestClassifier\n",
    "rf=RandomForestClassifier()\n",
    "rf.fit(train_X_scaled,y_train)"
   ]
  },
  {
   "cell_type": "markdown",
   "id": "5d55ef24",
   "metadata": {},
   "source": []
  },
  {
   "cell_type": "code",
   "execution_count": 26,
   "id": "ad6dedd3",
   "metadata": {},
   "outputs": [
    {
     "data": {
      "text/plain": [
       "array([0.0773409 , 0.04070659, 0.04082173, 0.03818462, 0.06278096,\n",
       "       0.06432625, 0.06588938, 0.06385903, 0.06334738, 0.06266121,\n",
       "       0.06232677, 0.06314829, 0.06306391, 0.062127  , 0.0616408 ,\n",
       "       0.06204828, 0.00496962, 0.00467247, 0.00491522, 0.00546617,\n",
       "       0.0047299 , 0.00521763, 0.00465521, 0.00589211, 0.00520856])"
      ]
     },
     "execution_count": 26,
     "metadata": {},
     "output_type": "execute_result"
    }
   ],
   "source": [
    "importance_scores=rf.feature_importances_\n",
    "importance_scores"
   ]
  },
  {
   "cell_type": "code",
   "execution_count": 27,
   "id": "099f91f4",
   "metadata": {},
   "outputs": [
    {
     "data": {
      "text/plain": [
       "array([ 0,  6,  5,  7,  8, 11, 12,  4,  9, 10, 13, 15, 14,  2,  1,  3, 23,\n",
       "       19, 21, 24, 16, 18, 20, 17, 22], dtype=int64)"
      ]
     },
     "execution_count": 27,
     "metadata": {},
     "output_type": "execute_result"
    }
   ],
   "source": [
    "sorted_indices=importance_scores.argsort()[::-1]\n",
    "sorted_indices"
   ]
  },
  {
   "cell_type": "code",
   "execution_count": 28,
   "id": "116fa186",
   "metadata": {},
   "outputs": [
    {
     "data": {
      "text/plain": [
       "array([0.0773409 , 0.06588938, 0.06432625, 0.06385903, 0.06334738,\n",
       "       0.06314829, 0.06306391, 0.06278096, 0.06266121, 0.06232677,\n",
       "       0.062127  , 0.06204828, 0.0616408 , 0.04082173, 0.04070659,\n",
       "       0.03818462, 0.00589211, 0.00546617, 0.00521763, 0.00520856,\n",
       "       0.00496962, 0.00491522, 0.0047299 , 0.00467247, 0.00465521])"
      ]
     },
     "execution_count": 28,
     "metadata": {},
     "output_type": "execute_result"
    }
   ],
   "source": [
    "sorted_importance_scores=importance_scores[sorted_indices]\n",
    "sorted_importance_scores"
   ]
  },
  {
   "cell_type": "code",
   "execution_count": 29,
   "id": "41dc5402",
   "metadata": {},
   "outputs": [
    {
     "data": {
      "image/png": "[encoded data removed]",
      "text/plain": [
       "<Figure size 432x288 with 1 Axes>"
      ]
     },
     "metadata": {
      "needs_background": "light"
     },
     "output_type": "display_data"
    }
   ],
   "source": [
    "plt.bar(range(len(importance_scores)),sorted_importance_scores)\n",
    "plt.xticks(range(len(importance_scores)),X.columns[sorted_indices], rotation=90)\n",
    "plt.xlabel('Features')\n",
    "plt.ylabel('Importance Scores')\n",
    "plt.title('Feature Importance')\n",
    "plt.show()"
   ]
  },
  {
   "cell_type": "code",
   "execution_count": 30,
   "id": "9d4bd815",
   "metadata": {},
   "outputs": [
    {
     "data": {
      "text/plain": [
       "(14973, 16)"
      ]
     },
     "execution_count": 30,
     "metadata": {},
     "output_type": "execute_result"
    }
   ],
   "source": [
    "X_train=X_train.drop(columns=['y','m78','w','m75','z','m76','m55','x','E'],axis=1)\n",
    "\n",
    "X_test=X_test.drop(columns=['y','m78','w','m75','z','m76','m55','x','E'],axis=1)\n",
    "\n",
    "X_train.shape"
   ]
  },
  {
   "cell_type": "code",
   "execution_count": 31,
   "id": "a111d0d4",
   "metadata": {},
   "outputs": [
    {
     "data": {
      "text/plain": [
       "(6417, 16)"
      ]
     },
     "execution_count": 31,
     "metadata": {},
     "output_type": "execute_result"
    }
   ],
   "source": [
    "X_test.shape"
   ]
  },
  {
   "cell_type": "code",
   "execution_count": 38,
   "id": "228fbe7e",
   "metadata": {},
   "outputs": [
    {
     "name": "stdout",
     "output_type": "stream",
     "text": [
      "Requirement already satisfied: scikit-learn in c:\\users\\chidw\\anaconda3installer\\lib\\site-packages (1.2.2)\n",
      "Collecting scikit-learn\n",
      "  Downloading scikit_learn-1.3.0-cp39-cp39-win_amd64.whl (9.3 MB)\n",
      "Requirement already satisfied: joblib>=1.1.1 in c:\\users\\chidw\\anaconda3installer\\lib\\site-packages (from scikit-learn) (1.2.0)\n",
      "Requirement already satisfied: threadpoolctl>=2.0.0 in c:\\users\\chidw\\anaconda3installer\\lib\\site-packages (from scikit-learn) (2.2.0)\n",
      "Requirement already satisfied: scipy>=1.5.0 in c:\\users\\chidw\\anaconda3installer\\lib\\site-packages (from scikit-learn) (1.7.1)\n",
      "Requirement already satisfied: numpy>=1.17.3 in c:\\users\\chidw\\anaconda3installer\\lib\\site-packages (from scikit-learn) (1.20.3)\n",
      "Installing collected packages: scikit-learn\n",
      "  Attempting uninstall: scikit-learn\n",
      "    Found existing installation: scikit-learn 1.2.2\n",
      "    Uninstalling scikit-learn-1.2.2:\n",
      "      Successfully uninstalled scikit-learn-1.2.2\n",
      "Successfully installed scikit-learn-1.3.0\n"
     ]
    }
   ],
   "source": [
    "!pip install --upgrade scikit-learn"
   ]
  },
  {
   "cell_type": "code",
   "execution_count": 40,
   "id": "1e32cc2c",
   "metadata": {},
   "outputs": [
    {
     "name": "stdout",
     "output_type": "stream",
     "text": [
      "Collecting scikit-learn==0.24.2\n",
      "  Downloading scikit_learn-0.24.2-cp39-cp39-win_amd64.whl (6.9 MB)\n",
      "Requirement already satisfied: scipy>=0.19.1 in c:\\users\\chidw\\anaconda3installer\\lib\\site-packages (from scikit-learn==0.24.2) (1.7.1)\n",
      "Requirement already satisfied: numpy>=1.13.3 in c:\\users\\chidw\\anaconda3installer\\lib\\site-packages (from scikit-learn==0.24.2) (1.20.3)\n",
      "Requirement already satisfied: joblib>=0.11 in c:\\users\\chidw\\anaconda3installer\\lib\\site-packages (from scikit-learn==0.24.2) (1.2.0)\n",
      "Requirement already satisfied: threadpoolctl>=2.0.0 in c:\\users\\chidw\\anaconda3installer\\lib\\site-packages (from scikit-learn==0.24.2) (2.2.0)\n",
      "Installing collected packages: scikit-learn\n",
      "  Attempting uninstall: scikit-learn\n",
      "    Found existing installation: scikit-learn 1.3.0\n",
      "    Uninstalling scikit-learn-1.3.0:\n",
      "      Successfully uninstalled scikit-learn-1.3.0\n",
      "Successfully installed scikit-learn-0.24.2\n"
     ]
    },
    {
     "name": "stderr",
     "output_type": "stream",
     "text": [
      "ERROR: pip's dependency resolver does not currently take into account all the packages that are installed. This behaviour is the source of the following dependency conflicts.\n",
      "imbalanced-learn 0.10.1 requires scikit-learn>=1.0.2, but you have scikit-learn 0.24.2 which is incompatible.\n"
     ]
    }
   ],
   "source": [
    "!pip install scikit-learn==0.24.2\n"
   ]
  },
  {
   "cell_type": "code",
   "execution_count": 42,
   "id": "988e4f2a",
   "metadata": {},
   "outputs": [
    {
     "name": "stdout",
     "output_type": "stream",
     "text": [
      "Requirement already satisfied: imbalanced-learn in c:\\users\\chidw\\anaconda3installer\\lib\\site-packages (0.10.1)\n",
      "Requirement already satisfied: threadpoolctl>=2.0.0 in c:\\users\\chidw\\anaconda3installer\\lib\\site-packages (from imbalanced-learn) (2.2.0)\n",
      "Collecting scikit-learn>=1.0.2\n",
      "  Using cached scikit_learn-1.3.0-cp39-cp39-win_amd64.whl (9.3 MB)\n",
      "Requirement already satisfied: numpy>=1.17.3 in c:\\users\\chidw\\anaconda3installer\\lib\\site-packages (from imbalanced-learn) (1.20.3)\n",
      "Requirement already satisfied: joblib>=1.1.1 in c:\\users\\chidw\\anaconda3installer\\lib\\site-packages (from imbalanced-learn) (1.2.0)\n",
      "Requirement already satisfied: scipy>=1.3.2 in c:\\users\\chidw\\anaconda3installer\\lib\\site-packages (from imbalanced-learn) (1.7.1)\n",
      "Installing collected packages: scikit-learn\n",
      "  Attempting uninstall: scikit-learn\n",
      "    Found existing installation: scikit-learn 0.24.2\n",
      "    Uninstalling scikit-learn-0.24.2:\n",
      "      Successfully uninstalled scikit-learn-0.24.2\n",
      "Successfully installed scikit-learn-1.3.0\n"
     ]
    }
   ],
   "source": [
    "!pip install --upgrade imbalanced-learn\n"
   ]
  },
  {
   "cell_type": "code",
   "execution_count": 44,
   "id": "4c5c2e6a",
   "metadata": {},
   "outputs": [
    {
     "name": "stdout",
     "output_type": "stream",
     "text": [
      "Collecting scikit-learn==1.0.2\n",
      "  Downloading scikit_learn-1.0.2-cp39-cp39-win_amd64.whl (7.2 MB)\n",
      "Requirement already satisfied: threadpoolctl>=2.0.0 in c:\\users\\chidw\\anaconda3installer\\lib\\site-packages (from scikit-learn==1.0.2) (2.2.0)\n",
      "Requirement already satisfied: joblib>=0.11 in c:\\users\\chidw\\anaconda3installer\\lib\\site-packages (from scikit-learn==1.0.2) (1.2.0)\n",
      "Requirement already satisfied: numpy>=1.14.6 in c:\\users\\chidw\\anaconda3installer\\lib\\site-packages (from scikit-learn==1.0.2) (1.20.3)\n",
      "Requirement already satisfied: scipy>=1.1.0 in c:\\users\\chidw\\anaconda3installer\\lib\\site-packages (from scikit-learn==1.0.2) (1.7.1)\n",
      "Installing collected packages: scikit-learn\n",
      "  Attempting uninstall: scikit-learn\n",
      "    Found existing installation: scikit-learn 1.3.0\n",
      "    Uninstalling scikit-learn-1.3.0:\n",
      "      Successfully uninstalled scikit-learn-1.3.0\n",
      "Successfully installed scikit-learn-1.0.2\n"
     ]
    }
   ],
   "source": [
    "!pip install scikit-learn==1.0.2\n"
   ]
  },
  {
   "cell_type": "code",
   "execution_count": 32,
   "id": "37146103",
   "metadata": {},
   "outputs": [],
   "source": [
    "from imblearn.over_sampling import SMOTE\n",
    "smote = SMOTE(random_state=7)\n",
    "X_train, y_train = smote.fit_resample(X_train, y_train)"
   ]
  },
  {
   "cell_type": "code",
   "execution_count": 33,
   "id": "a162b5a4",
   "metadata": {},
   "outputs": [],
   "source": [
    "from sklearn.svm import SVC\n",
    "\n",
    "svm = SVC(kernel='rbf',C=1.0)\n",
    "svm.fit(X_train,y_train)\n",
    "y_pred=svm.predict(X_test)"
   ]
  },
  {
   "cell_type": "code",
   "execution_count": 34,
   "id": "e16dbd62",
   "metadata": {},
   "outputs": [
    {
     "name": "stdout",
     "output_type": "stream",
     "text": [
      "Accuracy:  0.5021037868162693\n"
     ]
    }
   ],
   "source": [
    "from sklearn.metrics import accuracy_score,classification_report\n",
    "accuracy = accuracy_score(y_test,y_pred)\n",
    "print(\"Accuracy: \",accuracy)"
   ]
  },
  {
   "cell_type": "code",
   "execution_count": 35,
   "id": "2500d11a",
   "metadata": {},
   "outputs": [
    {
     "name": "stdout",
     "output_type": "stream",
     "text": [
      "              precision    recall  f1-score   support\n",
      "\n",
      "           0       0.84      0.46      0.59      5080\n",
      "           1       0.25      0.67      0.36      1337\n",
      "\n",
      "    accuracy                           0.50      6417\n",
      "   macro avg       0.54      0.56      0.48      6417\n",
      "weighted avg       0.72      0.50      0.54      6417\n",
      "\n"
     ]
    }
   ],
   "source": [
    "report=classification_report(y_test,y_pred)\n",
    "print(report)"
   ]
  },
  {
   "cell_type": "code",
   "execution_count": null,
   "id": "1b089dab",
   "metadata": {},
   "outputs": [],
   "source": [
    "# Grid search cv\n",
    "\n",
    "from sklearn.model_selection import RandomizedSearchCV\n",
    "\n",
    "model=SVC()\n",
    "hyper_parameters={\n",
    "    'kernel':['linear','poly','rbf','sigmoid'],\n",
    "    'C':[1,5,10,20]\n",
    "\n",
    "classifier=RandomizedSearchCV(model,hyper_parameters,cv=5)#cv is cross validation(no.of folds)\n",
    "classifier.fit(X_train,y_train)\n",
    "\n",
    "classifier.cv_results_"
   ]
  },
  {
   "cell_type": "code",
   "execution_count": null,
   "id": "2e31bf3c",
   "metadata": {},
   "outputs": [],
   "source": [
    "best_parameters=classifier.best_params_\n",
    "best_parameters"
   ]
  },
  {
   "cell_type": "code",
   "execution_count": null,
   "id": "f1347ece",
   "metadata": {},
   "outputs": [],
   "source": [
    "best_model = classifier.best_estimator_\n",
    "\n",
    "best_model"
   ]
  },
  {
   "cell_type": "code",
   "execution_count": null,
   "id": "37c70437",
   "metadata": {},
   "outputs": [],
   "source": [
    "y_pred1=best_model.predict(X_test)\n",
    "\n",
    "accuracy = accuracy_score(y_test, y_pred1)\n",
    "report = classification_report(y_test, y_pred1)\n",
    "\n",
    "print(\"Accuracy:\", accuracy)\n",
    "print(\"Classification Report:\")\n",
    "print(report)"
   ]
  },
  {
   "cell_type": "code",
   "execution_count": 36,
   "id": "cf056efe",
   "metadata": {},
   "outputs": [
    {
     "data": {
      "text/plain": [
       "index      0\n",
       "pc         0\n",
       "ld        28\n",
       "m0         0\n",
       "m1         0\n",
       "m2         0\n",
       "m3        67\n",
       "m4        71\n",
       "m5       100\n",
       "m6       121\n",
       "m7       149\n",
       "m8       148\n",
       "m9       180\n",
       "m10      200\n",
       "m11      241\n",
       "m12      220\n",
       "m13      275\n",
       "m14      285\n",
       "ma         0\n",
       "dtype: int64"
      ]
     },
     "execution_count": 36,
     "metadata": {},
     "output_type": "execute_result"
    }
   ],
   "source": [
    "t_d=pd.read_csv(\"Test_Data.csv\")\n",
    "\n",
    "t_d.isnull().sum()"
   ]
  },
  {
   "cell_type": "code",
   "execution_count": 37,
   "id": "f311f46f",
   "metadata": {},
   "outputs": [
    {
     "data": {
      "text/plain": [
       "(3986, 19)"
      ]
     },
     "execution_count": 37,
     "metadata": {},
     "output_type": "execute_result"
    }
   ],
   "source": [
    "t_d.shape"
   ]
  },
  {
   "cell_type": "code",
   "execution_count": 38,
   "id": "69f74982",
   "metadata": {},
   "outputs": [
    {
     "data": {
      "text/plain": [
       "index    0\n",
       "pc       0\n",
       "ld       0\n",
       "m0       0\n",
       "m1       0\n",
       "m2       0\n",
       "m3       0\n",
       "m4       0\n",
       "m5       0\n",
       "m6       0\n",
       "m7       0\n",
       "m8       0\n",
       "m9       0\n",
       "m10      0\n",
       "m11      0\n",
       "m12      0\n",
       "m13      0\n",
       "m14      0\n",
       "ma       0\n",
       "dtype: int64"
      ]
     },
     "execution_count": 38,
     "metadata": {},
     "output_type": "execute_result"
    }
   ],
   "source": [
    "t_d['ld']=t_d['ld'].fillna(t_d['ld'].mean())\n",
    "t_d['m3']=t_d['m3'].fillna(t_d['m3'].mean())\n",
    "t_d['m4']=t_d['m4'].fillna(t_d['m4'].mean())\n",
    "t_d['m5']=t_d['m5'].fillna(t_d['m5'].mean())\n",
    "t_d['m6']=t_d['m6'].fillna(t_d['m6'].mean())\n",
    "t_d['m7']=t_d['m7'].fillna(t_d['m7'].mean())\n",
    "t_d['m8']=t_d['m8'].fillna(t_d['m8'].mean())\n",
    "t_d['m9']=t_d['m9'].fillna(t_d['m9'].mean())\n",
    "t_d['m10']=t_d['m10'].fillna(t_d['m10'].mean())\n",
    "t_d['m11']=t_d['m11'].fillna(t_d['m11'].mean())\n",
    "t_d['m12']=t_d['m12'].fillna(t_d['m12'].mean())\n",
    "t_d['m13']=t_d['m13'].fillna(t_d['m13'].mean())\n",
    "t_d['m14']=t_d['m14'].fillna(t_d['m14'].mean())\n",
    "\n",
    "t_d.isnull().sum()"
   ]
  },
  {
   "cell_type": "code",
   "execution_count": 39,
   "id": "4b1eb0a8",
   "metadata": {},
   "outputs": [
    {
     "data": {
      "text/plain": [
       "index      int64\n",
       "pc        object\n",
       "ld       float64\n",
       "m0       float64\n",
       "m1       float64\n",
       "m2       float64\n",
       "m3       float64\n",
       "m4       float64\n",
       "m5       float64\n",
       "m6       float64\n",
       "m7       float64\n",
       "m8       float64\n",
       "m9       float64\n",
       "m10      float64\n",
       "m11      float64\n",
       "m12      float64\n",
       "m13      float64\n",
       "m14      float64\n",
       "ma        object\n",
       "dtype: object"
      ]
     },
     "execution_count": 39,
     "metadata": {},
     "output_type": "execute_result"
    }
   ],
   "source": [
    "t_d.dtypes"
   ]
  },
  {
   "cell_type": "code",
   "execution_count": 40,
   "id": "1b881516",
   "metadata": {},
   "outputs": [
    {
     "data": {
      "text/html": [
       "<div>\n",
       "<style scoped>\n",
       "    .dataframe tbody tr th:only-of-type {\n",
       "        vertical-align: middle;\n",
       "    }\n",
       "\n",
       "    .dataframe tbody tr th {\n",
       "        vertical-align: top;\n",
       "    }\n",
       "\n",
       "    .dataframe thead th {\n",
       "        text-align: right;\n",
       "    }\n",
       "</style>\n",
       "<table border=\"1\" class=\"dataframe\">\n",
       "  <thead>\n",
       "    <tr style=\"text-align: right;\">\n",
       "      <th></th>\n",
       "      <th>index</th>\n",
       "      <th>pc</th>\n",
       "      <th>ld</th>\n",
       "      <th>m0</th>\n",
       "      <th>m1</th>\n",
       "      <th>m2</th>\n",
       "      <th>m3</th>\n",
       "      <th>m4</th>\n",
       "      <th>m5</th>\n",
       "      <th>m6</th>\n",
       "      <th>m7</th>\n",
       "      <th>m8</th>\n",
       "      <th>m9</th>\n",
       "      <th>m10</th>\n",
       "      <th>m11</th>\n",
       "      <th>m12</th>\n",
       "      <th>m13</th>\n",
       "      <th>m14</th>\n",
       "      <th>ma</th>\n",
       "    </tr>\n",
       "  </thead>\n",
       "  <tbody>\n",
       "    <tr>\n",
       "      <th>0</th>\n",
       "      <td>0</td>\n",
       "      <td>E</td>\n",
       "      <td>156.46</td>\n",
       "      <td>73.5</td>\n",
       "      <td>8.8</td>\n",
       "      <td>105.0</td>\n",
       "      <td>13.2768</td>\n",
       "      <td>113.5365</td>\n",
       "      <td>13.9552</td>\n",
       "      <td>168.5460</td>\n",
       "      <td>8.5896</td>\n",
       "      <td>187.6560</td>\n",
       "      <td>8.3472</td>\n",
       "      <td>178.5945</td>\n",
       "      <td>14.3192</td>\n",
       "      <td>138.0435</td>\n",
       "      <td>12.700800</td>\n",
       "      <td>166.1100</td>\n",
       "      <td>m76</td>\n",
       "    </tr>\n",
       "    <tr>\n",
       "      <th>1</th>\n",
       "      <td>1</td>\n",
       "      <td>y</td>\n",
       "      <td>58.87</td>\n",
       "      <td>84.0</td>\n",
       "      <td>12.8</td>\n",
       "      <td>42.0</td>\n",
       "      <td>14.4440</td>\n",
       "      <td>126.6930</td>\n",
       "      <td>13.6688</td>\n",
       "      <td>190.6275</td>\n",
       "      <td>10.1712</td>\n",
       "      <td>202.5870</td>\n",
       "      <td>8.5416</td>\n",
       "      <td>166.9815</td>\n",
       "      <td>15.5944</td>\n",
       "      <td>142.5690</td>\n",
       "      <td>11.683200</td>\n",
       "      <td>177.7230</td>\n",
       "      <td>m78</td>\n",
       "    </tr>\n",
       "    <tr>\n",
       "      <th>2</th>\n",
       "      <td>2</td>\n",
       "      <td>w</td>\n",
       "      <td>139.68</td>\n",
       "      <td>126.0</td>\n",
       "      <td>3.2</td>\n",
       "      <td>73.5</td>\n",
       "      <td>14.2432</td>\n",
       "      <td>107.4885</td>\n",
       "      <td>13.8544</td>\n",
       "      <td>168.3255</td>\n",
       "      <td>10.2504</td>\n",
       "      <td>214.2735</td>\n",
       "      <td>11.3392</td>\n",
       "      <td>155.1795</td>\n",
       "      <td>16.0256</td>\n",
       "      <td>132.1005</td>\n",
       "      <td>13.010400</td>\n",
       "      <td>185.6085</td>\n",
       "      <td>m78</td>\n",
       "    </tr>\n",
       "    <tr>\n",
       "      <th>3</th>\n",
       "      <td>3</td>\n",
       "      <td>z</td>\n",
       "      <td>194.06</td>\n",
       "      <td>52.5</td>\n",
       "      <td>6.4</td>\n",
       "      <td>105.0</td>\n",
       "      <td>14.5480</td>\n",
       "      <td>138.6105</td>\n",
       "      <td>13.5080</td>\n",
       "      <td>196.6545</td>\n",
       "      <td>10.6304</td>\n",
       "      <td>213.4650</td>\n",
       "      <td>9.9224</td>\n",
       "      <td>191.1000</td>\n",
       "      <td>14.8256</td>\n",
       "      <td>128.0475</td>\n",
       "      <td>12.198400</td>\n",
       "      <td>180.2745</td>\n",
       "      <td>m75</td>\n",
       "    </tr>\n",
       "    <tr>\n",
       "      <th>4</th>\n",
       "      <td>4</td>\n",
       "      <td>x</td>\n",
       "      <td>173.14</td>\n",
       "      <td>42.0</td>\n",
       "      <td>8.0</td>\n",
       "      <td>136.5</td>\n",
       "      <td>14.9496</td>\n",
       "      <td>103.8765</td>\n",
       "      <td>13.8936</td>\n",
       "      <td>168.3570</td>\n",
       "      <td>9.6184</td>\n",
       "      <td>191.2050</td>\n",
       "      <td>9.9400</td>\n",
       "      <td>185.0310</td>\n",
       "      <td>13.8664</td>\n",
       "      <td>124.7610</td>\n",
       "      <td>12.524991</td>\n",
       "      <td>157.6470</td>\n",
       "      <td>m55</td>\n",
       "    </tr>\n",
       "  </tbody>\n",
       "</table>\n",
       "</div>"
      ],
      "text/plain": [
       "   index pc      ld     m0    m1     m2       m3        m4       m5        m6  \\\n",
       "0      0  E  156.46   73.5   8.8  105.0  13.2768  113.5365  13.9552  168.5460   \n",
       "1      1  y   58.87   84.0  12.8   42.0  14.4440  126.6930  13.6688  190.6275   \n",
       "2      2  w  139.68  126.0   3.2   73.5  14.2432  107.4885  13.8544  168.3255   \n",
       "3      3  z  194.06   52.5   6.4  105.0  14.5480  138.6105  13.5080  196.6545   \n",
       "4      4  x  173.14   42.0   8.0  136.5  14.9496  103.8765  13.8936  168.3570   \n",
       "\n",
       "        m7        m8       m9       m10      m11       m12        m13  \\\n",
       "0   8.5896  187.6560   8.3472  178.5945  14.3192  138.0435  12.700800   \n",
       "1  10.1712  202.5870   8.5416  166.9815  15.5944  142.5690  11.683200   \n",
       "2  10.2504  214.2735  11.3392  155.1795  16.0256  132.1005  13.010400   \n",
       "3  10.6304  213.4650   9.9224  191.1000  14.8256  128.0475  12.198400   \n",
       "4   9.6184  191.2050   9.9400  185.0310  13.8664  124.7610  12.524991   \n",
       "\n",
       "        m14   ma  \n",
       "0  166.1100  m76  \n",
       "1  177.7230  m78  \n",
       "2  185.6085  m78  \n",
       "3  180.2745  m75  \n",
       "4  157.6470  m55  "
      ]
     },
     "execution_count": 40,
     "metadata": {},
     "output_type": "execute_result"
    }
   ],
   "source": [
    "t_d.head()"
   ]
  },
  {
   "cell_type": "code",
   "execution_count": 41,
   "id": "5e306c80",
   "metadata": {},
   "outputs": [
    {
     "data": {
      "text/plain": [
       "(3986, 19)"
      ]
     },
     "execution_count": 41,
     "metadata": {},
     "output_type": "execute_result"
    }
   ],
   "source": [
    "t_d.shape"
   ]
  },
  {
   "cell_type": "code",
   "execution_count": 42,
   "id": "511a619f",
   "metadata": {},
   "outputs": [
    {
     "data": {
      "text/plain": [
       "(3986, 17)"
      ]
     },
     "execution_count": 42,
     "metadata": {},
     "output_type": "execute_result"
    }
   ],
   "source": [
    "t_d=t_d.drop(columns=['pc','ma'])\n",
    "\n",
    "t_d.shape"
   ]
  },
  {
   "cell_type": "code",
   "execution_count": 43,
   "id": "ec951bb5",
   "metadata": {},
   "outputs": [
    {
     "data": {
      "text/plain": [
       "(3986, 16)"
      ]
     },
     "execution_count": 43,
     "metadata": {},
     "output_type": "execute_result"
    }
   ],
   "source": [
    "t_d=t_d.drop('index',axis=1)\n",
    "\n",
    "t_d.shape"
   ]
  },
  {
   "cell_type": "code",
   "execution_count": null,
   "id": "9244452f",
   "metadata": {},
   "outputs": [],
   "source": [
    "from sklearn.preprocessing import StandardScaler\n",
    "scaler=StandardScaler()\n",
    "t_d_scaled=scaler.fit_transform(t_d)"
   ]
  },
  {
   "cell_type": "code",
   "execution_count": 44,
   "id": "e5786f5d",
   "metadata": {},
   "outputs": [
    {
     "data": {
      "text/plain": [
       "array([1, 0, 1, ..., 0, 1, 1], dtype=int64)"
      ]
     },
     "execution_count": 44,
     "metadata": {},
     "output_type": "execute_result"
    }
   ],
   "source": [
    "pred=svm.predict(t_d)\n",
    "\n",
    "pred"
   ]
  },
  {
   "cell_type": "code",
   "execution_count": 45,
   "id": "cd718c98",
   "metadata": {},
   "outputs": [
    {
     "data": {
      "text/plain": [
       "(3986,)"
      ]
     },
     "execution_count": 45,
     "metadata": {},
     "output_type": "execute_result"
    }
   ],
   "source": [
    "pred.shape"
   ]
  },
  {
   "cell_type": "code",
   "execution_count": 46,
   "id": "a1c4cff5",
   "metadata": {},
   "outputs": [
    {
     "data": {
      "text/plain": [
       "array([1, 0], dtype=int64)"
      ]
     },
     "execution_count": 46,
     "metadata": {},
     "output_type": "execute_result"
    }
   ],
   "source": [
    "test_pred=pd.DataFrame({'pred':pred})\n",
    "\n",
    "test_pred.to_csv(\"prednew.csv\",index=False)\n",
    "\n",
    "g=pd.read_csv(\"prednew.csv\")\n",
    "\n",
    "g['pred'].unique()"
   ]
  },
  {
   "cell_type": "code",
   "execution_count": null,
   "id": "19f57fd3",
   "metadata": {},
   "outputs": [],
   "source": []
  }
 ],
 "metadata": {
  "kernelspec": {
   "display_name": "Python 3 (ipykernel)",
   "language": "python",
   "name": "python3"
  },
  "language_info": {
   "codemirror_mode": {
    "name": "ipython",
    "version": 3
   },
   "file_extension": ".py",
   "mimetype": "text/x-python",
   "name": "python",
   "nbconvert_exporter": "python",
   "pygments_lexer": "ipython3",
   "version": "3.9.7"
  }
 },
 "nbformat": 4,
 "nbformat_minor": 5
}
